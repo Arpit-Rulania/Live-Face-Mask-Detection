{
 "cells": [
  {
   "cell_type": "markdown",
   "id": "bafa3841",
   "metadata": {},
   "source": [
    "The problem we are trying to solve is the determination of a person wearing a face mask in a given photo or image and this is important because since the emergence of the COVID-19 pandemic in early 2020, all sorts of measures have been put into place by governments all across the world to reduce and mitigate the spread of infection\n"
   ]
  },
  {
   "cell_type": "markdown",
   "id": "63a0ed5d",
   "metadata": {},
   "source": [
    "The dataset used for this project was obtained from an open-source  Machine Learning website called Kaggle, the following is the url: https://www.kaggle.com/datasets/bahadoreizadkhah/face-mask-types-dataset \n",
    "https://github.com/avishshah11/FaceMask-Detection\n",
    "https://github.com/AI-TECHED/Face-Mask-Detection\n",
    "https://github.com/balajisrinivas/Face-Mask-Detection\n",
    "\n",
    "The dataset which was used in this project can be found in the folder named dataset. \n"
   ]
  },
  {
   "cell_type": "markdown",
   "id": "9ff9c357",
   "metadata": {},
   "source": [
    "The number of classes we have classified within the dataset are five. The following are the names of the classes: no_mask, cloth, N95, N95_valve, surgical. \n",
    "\n",
    "However the dataset which we got from the open source only had the bare minimum, hence we used data augmentation to over come this issue.  We had only 100 images  for each class from the online dataset, after data augmentation we have a 1000 images for each of the classes. Hence in total of 5000 images. "
   ]
  },
  {
   "cell_type": "markdown",
   "id": "b2dfd05a",
   "metadata": {},
   "source": [
    "## Imports"
   ]
  },
  {
   "cell_type": "code",
   "execution_count": 2,
   "id": "90508b90",
   "metadata": {
    "pycharm": {
     "name": "#%%\n"
    }
   },
   "outputs": [],
   "source": [
    "from tensorflow.keras.preprocessing.image import ImageDataGenerator\n",
    "from tensorflow.keras.applications import MobileNetV2\n",
    "\n",
    "from tensorflow.keras.layers import AveragePooling2D, Dropout, Flatten, Dense, Input\n",
    "from tensorflow.keras.models import Model\n",
    "from tensorflow.keras.optimizers import Adam\n",
    "from tensorflow.keras.applications.mobilenet_v2 import preprocess_input\n",
    "from tensorflow.keras.preprocessing.image import img_to_array, load_img\n",
    "from tensorflow.keras.utils import to_categorical\n",
    "from sklearn.preprocessing import LabelEncoder\n",
    "from sklearn.model_selection import train_test_split\n",
    "from sklearn.metrics import classification_report\n",
    "from imutils import paths\n",
    "import matplotlib.pyplot as plt\n",
    "import numpy as np\n",
    "import logging\n",
    "import pandas as pd\n",
    "import os\n",
    "from tabulate import tabulate"
   ]
  },
  {
   "cell_type": "code",
   "execution_count": 3,
   "id": "784fe3b2",
   "metadata": {
    "pycharm": {
     "name": "#%%\n"
    }
   },
   "outputs": [],
   "source": [
    "# Suppresses the tensorflow messages in the prints\n",
    "os.environ['TF_CPP_MIN_LOG_LEVEL'] = '3'  # FATAL\n",
    "logging.getLogger('tensorflow').setLevel(logging.FATAL)"
   ]
  },
  {
   "cell_type": "markdown",
   "id": "a0e2ffe1",
   "metadata": {
    "pycharm": {
     "name": "#%% md\n"
    }
   },
   "source": [
    "## Variable Declarations"
   ]
  },
  {
   "cell_type": "code",
   "execution_count": 4,
   "id": "c994bdd1",
   "metadata": {
    "pycharm": {
     "name": "#%%\n"
    }
   },
   "outputs": [
    {
     "name": "stdout",
     "output_type": "stream",
     "text": [
      "\n",
      "\u001b[94mConfigure the number of epochs and learning rate for model training\n",
      "\n",
      "+----------------+---------------+---------+\n",
      "| Abbreviation   | Terminology   |   Value |\n",
      "|----------------+---------------+---------|\n",
      "| lr             | Learning Rate |  0.0001 |\n",
      "| ep             | Epoch         | 20      |\n",
      "| bs             | Batch Size    | 32      |\n",
      "+----------------+---------------+---------+\n",
      "\n",
      "Detecting the two different mask types: no_mask, cloth, N95, N95_valve, surgical\n"
     ]
    }
   ],
   "source": [
    "# initialize the initial learning rate, number of epochs to train for,\n",
    "# and batch size\n",
    "# initialize the initial learning rate, number of epochs to train for,\n",
    "# and batch size\n",
    "Learning_Rate = 1e-4\n",
    "Number_of_Epochs = 20\n",
    "batch_size = 32\n",
    "\n",
    "DIRECTORY = r\"dataset\"\n",
    "type_of_masks = [ \"no_mask\", \"cloth\", \"N95\", \"N95_valve\", \"surgical\"]\n",
    "\n",
    "\n",
    "df = pd.DataFrame({ 'Abbreviation': ['lr', 'ep', 'bs'], 'Terminology': ['Learning Rate', 'Epoch', 'Batch Size'], 'Value': [Learning_Rate, Number_of_Epochs, batch_size]})\n",
    "print()\n",
    "print('\\033[94mConfigure the number of epochs and learning rate for model training')\n",
    "print()\n",
    "print(tabulate(df, headers='keys', tablefmt='psql', showindex=False))\n",
    "print()\n",
    "print(f'Detecting the two different mask types: {\", \".join(map(str, type_of_masks))}')"
   ]
  },
  {
   "cell_type": "markdown",
   "id": "59ea54a7",
   "metadata": {
    "pycharm": {
     "name": "#%% md\n"
    }
   },
   "source": [
    "## Data Preparation"
   ]
  },
  {
   "cell_type": "code",
   "execution_count": 5,
   "id": "a7974966",
   "metadata": {
    "pycharm": {
     "name": "#%%\n"
    }
   },
   "outputs": [
    {
     "name": "stdout",
     "output_type": "stream",
     "text": [
      "\u001b[92m[COMPLETE] Data Prepation completed\n",
      "\u001b[93m[IN PROGRESS] Converting categories into hot-one numerical value variables\n",
      "\u001b[92m[COMPLETE] Converting categories into hot-one numerical value variables\n",
      "\u001b[93m[IN PROGRESS] Converting data into numpy array\n",
      "\u001b[92m[COMPLETE] Converting data into numpy array\n",
      "\n",
      "\u001b[94mTotal of 5000 images processed\n"
     ]
    }
   ],
   "source": [
    "dataset = []\n",
    "mask_label = []\n",
    "\n",
    "\n",
    "image_size = 224\n",
    "\n",
    "for mask_type_category in type_of_masks:\n",
    "\tpath = os.path.join(DIRECTORY, mask_type_category)\n",
    "\tfor img in os.listdir(path):\n",
    "\t\timage_pathway = os.path.join(path, img)\n",
    "\t\timage = load_img(image_pathway, target_size=(image_size, image_size))\n",
    "\t\timage = img_to_array(image)\n",
    "\t\timage = preprocess_input(image)\n",
    "\n",
    "\t\tdataset.append(image)\n",
    "\t\tmask_label.append(mask_type_category)\n",
    "print('\\033[92m[COMPLETE] Data Prepation completed')\n",
    "\n",
    "# one hot encoding\n",
    "print('\\033[93m[IN PROGRESS] Converting categories into hot-one numerical value variables')\n",
    "# perform one-hot encoding on the labels\n",
    "label_encoder = LabelEncoder()\n",
    "#label_encoder = LabelEncoder()\n",
    "#integer_encoded = label_encoder.fit_transform(values)\n",
    "mask_label = label_encoder.fit_transform(mask_label)\n",
    "mask_label = to_categorical(mask_label)\n",
    "print('\\033[92m[COMPLETE] Converting categories into hot-one numerical value variables')\n",
    "\n",
    "print('\\033[93m[IN PROGRESS] Converting data into numpy array')\n",
    "mask_label = np.array(mask_label)\n",
    "dataset = np.array(dataset, dtype=\"float32\")\n",
    "print('\\033[92m[COMPLETE] Converting data into numpy array\\n')\n",
    "print(f'\\033[94mTotal of {len(dataset)} images processed')"
   ]
  },
  {
   "cell_type": "markdown",
   "id": "e814c942",
   "metadata": {
    "pycharm": {
     "name": "#%% md\n"
    }
   },
   "source": [
    "## Data Processing and Augmentation"
   ]
  },
  {
   "cell_type": "code",
   "execution_count": 6,
   "id": "1c8feb49",
   "metadata": {
    "pycharm": {
     "name": "#%%\n"
    }
   },
   "outputs": [
    {
     "name": "stdout",
     "output_type": "stream",
     "text": [
      "\u001b[93m[IN PROGRESS] Splitting datasets into testing and training data\n",
      "\u001b[92m[COMPLETE] Splitting datasets into testing and training data\n",
      "\n",
      "\u001b[94mTraining Size Split Summary\n",
      "+--------------------+----------------+\n",
      "| Type of Training   | Testing Size   |\n",
      "|--------------------+----------------|\n",
      "| Testing Dataset    | 20%            |\n",
      "| Training Dataset   | 80%            |\n",
      "+--------------------+----------------+ \n",
      "\n",
      "\u001b[93m[IN PROGRESS] Data Augmentation with ImageDataGenerator\n",
      "\u001b[92m[COMPLETE] Data Augmentation with ImageDataGenerator\n"
     ]
    }
   ],
   "source": [
    "# Using the train_test split to effectively split the training data into testing and training data\n",
    "# Using the 20% for the test data\n",
    "print('\\033[93m[IN PROGRESS] Splitting datasets into testing and training data')\n",
    "(trainX, testX, trainY, testY) = train_test_split(dataset, mask_label,\n",
    "\ttest_size=0.17, stratify=mask_label, random_state=42)\n",
    "print('\\033[92m[COMPLETE] Splitting datasets into testing and training data')\n",
    "\n",
    "df = pd.DataFrame({ 'Type of Training': ['Testing Dataset', 'Training Dataset',], 'Testing Size': ['20%', '80%']})\n",
    "\n",
    "print('\\n\\033[94mTraining Size Split Summary')\n",
    "print(tabulate(df, headers='keys', tablefmt='psql', showindex=False), \"\\n\")\n",
    "\n",
    "# Using image generator for data augmentation\n",
    "print('\\033[93m[IN PROGRESS] Data Augmentation with ImageDataGenerator')\n",
    "image_augmentation = ImageDataGenerator(\n",
    "\trotation_range=20,\n",
    "\tzoom_range=0.15,\n",
    "\twidth_shift_range=0.2,\n",
    "\theight_shift_range=0.2,\n",
    "\tshear_range=0.15,\n",
    "\thorizontal_flip=True,\n",
    "\tfill_mode=\"nearest\")\n",
    "print('\\033[92m[COMPLETE] Data Augmentation with ImageDataGenerator')"
   ]
  },
  {
   "cell_type": "markdown",
   "metadata": {},
   "source": [
    "MODEL:\n",
    "\n",
    "Keeping learning rate low so we could achieve a better accuracy earlier in our model.\n",
    "After trying different values, we observed that these values resulted to best performance of our model.\n",
    "\n",
    "We are using MobileNet in our model instead of a CNN layer as it results to faster processing. The MobileNet which we use generates 2 different models, the head and the base model. The base model in our code is denoted as the basic model. It uses a pre-trained model which is used specifically for images. This resulted to us observing better results.  Then we the head model which uses our base model (basic model) output. The head model in our code is denoted as root_model."
   ]
  },
  {
   "cell_type": "markdown",
   "id": "7c4d858a",
   "metadata": {
    "pycharm": {
     "name": "#%% md\n"
    }
   },
   "source": [
    "## CNN Architecture with MobileNetV2"
   ]
  },
  {
   "cell_type": "code",
   "execution_count": 7,
   "id": "f776ff92",
   "metadata": {
    "pycharm": {
     "name": "#%%\n"
    }
   },
   "outputs": [
    {
     "name": "stdout",
     "output_type": "stream",
     "text": [
      "\u001b[93m[IN PROGRESS] Creating a base model\n",
      "\u001b[92m[COMPLETE] Base model created\n",
      "\u001b[93m[IN PROGRESS] Building on top of the base model with activation functions\n",
      "\u001b[92m[COMPLETE] Building on top of the base model with activation functions\n"
     ]
    }
   ],
   "source": [
    "# load the MobileNetV2 network without root layer\n",
    "# MobileNetV2 is faster than the traditional CNN\n",
    "print('\\033[93m[IN PROGRESS] Creating a base model')\n",
    "basic_model = MobileNetV2(weights=\"imagenet\", include_top=False,\n",
    "\tinput_tensor=Input(shape=(image_size, image_size, 3)))\n",
    "print('\\033[92m[COMPLETE] Base model created')\n",
    "\n",
    "print('\\033[93m[IN PROGRESS] Building on top of the base model with activation functions')\n",
    "# Relu is a go-to activation function for a non-linear use-cases\n",
    "# root_model for top layer\n",
    "root_Model = basic_model.output\n",
    "root_Model = AveragePooling2D(pool_size=(6, 6))(root_Model)\n",
    "root_Model = Flatten(name=\"flatten\")(root_Model)\n",
    "root_Model = Dense(128, activation=\"relu\")(root_Model)\n",
    "root_Model = Dropout(0.5)(root_Model)\n",
    "root_Model = Dense(5, activation=\"softmax\")(root_Model)\n",
    "print('\\033[92m[COMPLETE] Building on top of the base model with activation functions')\n",
    "\n",
    "\n",
    "# actual model to train\n",
    "model = Model(inputs=basic_model.input, outputs=root_Model)\n",
    "\n",
    "# temporarily stopping the base model from being trained so they are \n",
    "# not updated in initial training\n",
    "for layer in basic_model.layers:\n",
    "\tlayer.trainable = False"
   ]
  },
  {
   "cell_type": "markdown",
   "id": "c1ece6c5",
   "metadata": {
    "pycharm": {
     "name": "#%% md\n"
    }
   },
   "source": [
    "## Training Results"
   ]
  },
  {
   "cell_type": "code",
   "execution_count": 8,
   "id": "8adee604",
   "metadata": {
    "pycharm": {
     "name": "#%%\n"
    }
   },
   "outputs": [
    {
     "name": "stdout",
     "output_type": "stream",
     "text": [
      "\u001b[93m[IN PROGRESS] Training head of network\n",
      "\n",
      "\u001b[94m\n",
      "Epoch 1/20\n",
      "129/129 [==============================] - 52s 377ms/step - loss: 0.5248 - accuracy: 0.3692 - val_loss: 0.3574 - val_accuracy: 0.6580\n",
      "Epoch 2/20\n",
      "129/129 [==============================] - 49s 381ms/step - loss: 0.3724 - accuracy: 0.5934 - val_loss: 0.2892 - val_accuracy: 0.7203\n",
      "Epoch 3/20\n",
      "129/129 [==============================] - 56s 438ms/step - loss: 0.3230 - accuracy: 0.6524 - val_loss: 0.2515 - val_accuracy: 0.7709\n",
      "Epoch 4/20\n",
      "129/129 [==============================] - 53s 407ms/step - loss: 0.2965 - accuracy: 0.7022 - val_loss: 0.2332 - val_accuracy: 0.7826\n",
      "Epoch 5/20\n",
      "129/129 [==============================] - 54s 418ms/step - loss: 0.2731 - accuracy: 0.7284 - val_loss: 0.2186 - val_accuracy: 0.7932\n",
      "Epoch 6/20\n",
      "129/129 [==============================] - 53s 410ms/step - loss: 0.2551 - accuracy: 0.7462 - val_loss: 0.2079 - val_accuracy: 0.7991\n",
      "Epoch 7/20\n",
      "129/129 [==============================] - 51s 395ms/step - loss: 0.2444 - accuracy: 0.7600 - val_loss: 0.1981 - val_accuracy: 0.8132\n",
      "Epoch 8/20\n",
      "129/129 [==============================] - 48s 372ms/step - loss: 0.2347 - accuracy: 0.7683 - val_loss: 0.1915 - val_accuracy: 0.8179\n",
      "Epoch 9/20\n",
      "129/129 [==============================] - 47s 365ms/step - loss: 0.2188 - accuracy: 0.7914 - val_loss: 0.1843 - val_accuracy: 0.8190\n",
      "Epoch 10/20\n",
      "129/129 [==============================] - 47s 361ms/step - loss: 0.2159 - accuracy: 0.7858 - val_loss: 0.1810 - val_accuracy: 0.8273\n",
      "Epoch 11/20\n",
      "129/129 [==============================] - 50s 390ms/step - loss: 0.2093 - accuracy: 0.7972 - val_loss: 0.1782 - val_accuracy: 0.8331\n",
      "Epoch 12/20\n",
      "129/129 [==============================] - 49s 382ms/step - loss: 0.2036 - accuracy: 0.8059 - val_loss: 0.1740 - val_accuracy: 0.8331\n",
      "Epoch 13/20\n",
      "129/129 [==============================] - 49s 376ms/step - loss: 0.1958 - accuracy: 0.8118 - val_loss: 0.1690 - val_accuracy: 0.8320\n",
      "Epoch 14/20\n",
      "129/129 [==============================] - 50s 384ms/step - loss: 0.1903 - accuracy: 0.8159 - val_loss: 0.1651 - val_accuracy: 0.8367\n",
      "Epoch 15/20\n",
      "129/129 [==============================] - 33s 253ms/step - loss: 0.1870 - accuracy: 0.8159 - val_loss: 0.1607 - val_accuracy: 0.8402\n",
      "Epoch 16/20\n",
      "129/129 [==============================] - 31s 238ms/step - loss: 0.1793 - accuracy: 0.8288 - val_loss: 0.1585 - val_accuracy: 0.8461\n",
      "Epoch 17/20\n",
      "129/129 [==============================] - 30s 230ms/step - loss: 0.1811 - accuracy: 0.8220 - val_loss: 0.1536 - val_accuracy: 0.8519\n",
      "Epoch 18/20\n",
      "129/129 [==============================] - 32s 246ms/step - loss: 0.1700 - accuracy: 0.8441 - val_loss: 0.1515 - val_accuracy: 0.8543\n",
      "Epoch 19/20\n",
      "129/129 [==============================] - 31s 242ms/step - loss: 0.1727 - accuracy: 0.8339 - val_loss: 0.1480 - val_accuracy: 0.8531\n",
      "Epoch 20/20\n",
      "129/129 [==============================] - 32s 247ms/step - loss: 0.1679 - accuracy: 0.8416 - val_loss: 0.1471 - val_accuracy: 0.8566\n",
      "\u001b[92m[COMPLETE] Training head of network\n",
      "\u001b[93m[IN PROGRESS] Evaluating network and making predictions on testing set\n",
      "27/27 [==============================] - 5s 171ms/step\n",
      "\u001b[92m[COMPLETE] Evaluating network and making predictions on testing set\n",
      "\n",
      "              precision    recall  f1-score   support\n",
      "\n",
      "         N95       0.81      0.72      0.76       170\n",
      "   N95_valve       0.78      0.89      0.83       171\n",
      "       cloth       0.88      0.80      0.84       170\n",
      "     no_mask       0.98      1.00      0.99       170\n",
      "    surgical       0.85      0.87      0.86       170\n",
      "\n",
      "    accuracy                           0.86       851\n",
      "   macro avg       0.86      0.86      0.86       851\n",
      "weighted avg       0.86      0.86      0.86       851\n",
      "\n"
     ]
    }
   ],
   "source": [
    "optimizer = Adam(learning_rate=Learning_Rate, decay=Learning_Rate / Number_of_Epochs)\n",
    "model.compile(loss=\"binary_crossentropy\", optimizer=optimizer,\n",
    "\tmetrics=[\"accuracy\"])\n",
    "\n",
    "print('\\033[93m[IN PROGRESS] Training head of network\\n')\n",
    "print('\\033[94m')\n",
    "model_head = model.fit(\n",
    "\timage_augmentation.flow(trainX, trainY, batch_size=batch_size),\n",
    "\tsteps_per_epoch=len(trainX) // batch_size,\n",
    "\tvalidation_data=(testX, testY),\n",
    "\tvalidation_steps=len(testX) // batch_size,\n",
    "\tepochs=Number_of_Epochs)\n",
    "print('\\033[92m[COMPLETE] Training head of network')\n",
    "\n",
    "print('\\033[93m[IN PROGRESS] Evaluating network and making predictions on testing set')\n",
    "prediction_based_on_testX = model.predict(testX, batch_size=batch_size)\n",
    "print('\\033[92m[COMPLETE] Evaluating network and making predictions on testing set\\n')\n",
    "\n",
    "# index for image with largest probability\n",
    "prediction_based_on_testX = np.argmax(prediction_based_on_testX, axis=1)\n",
    "\n",
    "# classification report\n",
    "print(classification_report(testY.argmax(axis=1), prediction_based_on_testX,\n",
    "\ttarget_names=label_encoder.classes_))\n"
   ]
  },
  {
   "cell_type": "markdown",
   "id": "a013cfe9",
   "metadata": {
    "pycharm": {
     "name": "#%% md\n"
    }
   },
   "source": [
    "## Plotting - Loss and Accuracy"
   ]
  },
  {
   "cell_type": "code",
   "execution_count": 9,
   "id": "65f839be",
   "metadata": {
    "pycharm": {
     "name": "#%%\n"
    }
   },
   "outputs": [
    {
     "data": {
      "image/png": "[encoded data removed]",
      "text/plain": [
       "<Figure size 432x288 with 1 Axes>"
      ]
     },
     "metadata": {
      "needs_background": "light"
     },
     "output_type": "display_data"
    }
   ],
   "source": [
    "num_epoch = Number_of_Epochs\n",
    "plt.style.use(\"ggplot\")\n",
    "plt.figure()\n",
    "plt.plot(np.arange(0, num_epoch), model_head.history[\"loss\"], label=\"train_loss\")\n",
    "plt.plot(np.arange(0, num_epoch), model_head.history[\"val_loss\"], label=\"val_loss\")\n",
    "plt.plot(np.arange(0, num_epoch), model_head.history[\"accuracy\"], label=\"train_acc\")\n",
    "plt.plot(np.arange(0, num_epoch), model_head.history[\"val_accuracy\"], label=\"val_acc\")\n",
    "plt.title(\"Training Loss and Accuracy\")\n",
    "plt.xlabel(\"Epoch #\")\n",
    "plt.ylabel(\"Loss/Accuracy\")\n",
    "plt.legend(loc=\"lower left\")\n",
    "plt.savefig(\"plot.png\")"
   ]
  },
  {
   "cell_type": "markdown",
   "id": "7b44c72e",
   "metadata": {},
   "source": [
    "## Discussion\n",
    "\n",
    "Mask Detection model is a combination of face mask classifaction model and real time object detection model. When we were training the face mask detection model we tried using lots of different approaches based on existed literature. The one that worked the best for us was MobileNetV2 and for the weights we used pre trained weights, \"imagenet\". This gives the highest measures of recall. When we tried running this model on different use cases of different face mask materials we decided to use for this project.\n",
    "\n",
    "Our initial plan was to use transfer learning to classify different types of face mask. Even though we created big data sets different types of masks, this training method.\n",
    "\n",
    "From the plot, the results that we achieved, training loss is minimised when the number of epochs reaches 12, and is same after. Training accuracy increases but is almost consistent after 12 epochs as well. and this is the exact same as we predicted. \n",
    "\n",
    "## Improvements\n",
    "\n",
    "Improving the precision we resized the crop faces that we provided as input to the model via video stream. We tried using different layering methods and used the ones which best suites our requirements, as mentioned earlier. \n",
    "\n",
    "## Use Cases\n",
    "\n",
    "\n",
    "This can be used at Hospitals, Police Stations, Bus Stands, Train Stations, Super Markets.\n"
   ]
  },
  {
   "cell_type": "markdown",
   "id": "c54762d2",
   "metadata": {},
   "source": [
    "## Saving Model"
   ]
  },
  {
   "cell_type": "code",
   "execution_count": 10,
   "id": "04eb06bc",
   "metadata": {},
   "outputs": [
    {
     "name": "stdout",
     "output_type": "stream",
     "text": [
      "\u001b[92m[COMPLETE] Serializing and saving mask detector model to file\n"
     ]
    }
   ],
   "source": [
    "# serializing model to disk\n",
    "model.save(\"mask_detector.model\", save_format=\"h5\")\n",
    "print('\\033[92m[COMPLETE] Serializing and saving mask detector model to file')"
   ]
  }
 ],
 "metadata": {
  "kernelspec": {
   "display_name": "Python 3",
   "language": "python",
   "name": "python3"
  },
  "language_info": {
   "codemirror_mode": {
    "name": "ipython",
    "version": 3
   },
   "file_extension": ".py",
   "mimetype": "text/x-python",
   "name": "python",
   "nbconvert_exporter": "python",
   "pygments_lexer": "ipython3",
   "version": "3.9.13"
  },
  "vscode": {
   "interpreter": {
    "hash": "e046d0ca32f99a1bac1133b1d1dbfa3fcf3e4ed2fb4a378c613a544c4f4b01c6"
   }
  }
 },
 "nbformat": 4,
 "nbformat_minor": 5
}
