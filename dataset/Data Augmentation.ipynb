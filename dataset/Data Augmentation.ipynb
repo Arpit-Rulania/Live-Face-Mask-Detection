{
 "cells": [
  {
   "cell_type": "code",
   "execution_count": 7,
   "id": "b3abe902",
   "metadata": {
    "scrolled": false
   },
   "outputs": [
    {
     "name": "stdout",
     "output_type": "stream",
     "text": [
      "Initialised with 439 image(s) found.\n",
      "Output directory set to C:\\Users\\zanev\\Desktop\\COMP9444\\COMP9444-Project\\dataset\\valve_N95\\output."
     ]
    },
    {
     "name": "stderr",
     "output_type": "stream",
     "text": [
      "Processing <PIL.Image.Image image mode=RGB size=300x300 at 0x194A2B75E20>: 100%|█| 561/561 [00:04<00:00, 138.30 Samples\n"
     ]
    }
   ],
   "source": [
    "import Augmentor\n",
    "import os\n",
    "\n",
    "directory = os.getcwd()\n",
    "augment_img = directory + r'\\valve_N95'\n",
    "\n",
    "p = Augmentor.Pipeline(augment_img)\n",
    "p.rotate(probability=1.0, max_left_rotation=25, max_right_rotation=25)\n",
    "p.sample(561)"
   ]
  },
  {
   "cell_type": "code",
   "execution_count": null,
   "id": "ed50c286",
   "metadata": {},
   "outputs": [],
   "source": []
  }
 ],
 "metadata": {
  "kernelspec": {
   "display_name": "Python 3 (ipykernel)",
   "language": "python",
   "name": "python3"
  },
  "language_info": {
   "codemirror_mode": {
    "name": "ipython",
    "version": 3
   },
   "file_extension": ".py",
   "mimetype": "text/x-python",
   "name": "python",
   "nbconvert_exporter": "python",
   "pygments_lexer": "ipython3",
   "version": "3.9.12"
  }
 },
 "nbformat": 4,
 "nbformat_minor": 5
}
